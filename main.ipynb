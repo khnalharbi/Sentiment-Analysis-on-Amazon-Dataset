{
 "cells": [
  {
   "cell_type": "code",
   "execution_count": 1,
   "metadata": {},
   "outputs": [],
   "source": [
    "import numpy as np\n",
    "import pandas as pd\n",
    "import random\n",
    "import matplotlib.pyplot as plt\n",
    "import warnings\n",
    "warnings.filterwarnings('ignore', category=PendingDeprecationWarning)\n",
    "\n",
    "from tqdm import tqdm\n",
    "from sklearn.linear_model import Perceptron, LogisticRegression\n",
    "from sklearn.tree import DecisionTreeClassifier\n",
    "from sklearn.model_selection import train_test_split, StratifiedKFold, KFold, GridSearchCV\n",
    "from sklearn.utils import resample\n",
    "from sklearn.metrics import accuracy_score, classification_report, roc_auc_score, confusion_matrix\n",
    "from sklearn.svm import SVC\n",
    "from sklearn.svm import LinearSVC\n",
    "from sklearn.ensemble import AdaBoostClassifier\n",
    "from sklearn.base import clone\n",
    "from sklearn.utils.validation import check_array\n",
    "from sklearn.mixture import GaussianMixture\n",
    "from sklearn.semi_supervised import LabelSpreading\n",
    "from sklearn.feature_extraction.text import TfidfVectorizer\n",
    "\n",
    "from scipy.spatial import distance\n",
    "from scipy.cluster.vq import kmeans2\n",
    "from scipy.stats import multivariate_normal\n",
    "from qns3vm import QN_S3VM\n",
    "\n",
    "# import gzip\n",
    "# import nltk\n",
    "# import requests\n",
    "# from io import BytesIO\n",
    "# import imblearn\n",
    "# from nltk.corpus import stopwords\n",
    "# from nltk.stem import WordNetLemmatizer\n",
    "# nltk.download('stopwords')\n",
    "# nltk.download('wordnet') \n",
    "# import re\n",
    "# import contractions\n",
    "# from sklearn.preprocessing import LabelEncoder\n",
    "# from bs4 import BeautifulSoup \n",
    "# pd.set_option('display.max_colwidth', None) \n",
    "# import requests\n",
    "# import gensim.downloader as api\n",
    "# from gensim.models import Word2Vec\n",
    "# wv = api.load('word2vec-google-news-300')"
   ]
  },
  {
   "cell_type": "code",
   "execution_count": 2,
   "metadata": {},
   "outputs": [],
   "source": [
    "X_review_h = np.load('X_home_review_wv.npy')\n",
    "y_h = np.load('y_data_home_finalized.npy')\n",
    "x_h = np.load('X_data_home_finalized.npy', allow_pickle=True)"
   ]
  },
  {
   "cell_type": "code",
   "execution_count": 3,
   "metadata": {},
   "outputs": [],
   "source": [
    "X_review_k = np.load('X_Kitch_review_wv.npy', allow_pickle = True)\n",
    "y_k = np.load('y_data_Kitch_finalized.npy' ,allow_pickle = True)\n",
    "x_k = np.load('X_data_Kitch_finalized.npy', allow_pickle = True)"
   ]
  },
  {
   "cell_type": "code",
   "execution_count": 4,
   "metadata": {},
   "outputs": [
    {
     "data": {
      "text/plain": [
       "(586121, 300)"
      ]
     },
     "execution_count": 4,
     "metadata": {},
     "output_type": "execute_result"
    }
   ],
   "source": [
    "X_review_h.shape"
   ]
  },
  {
   "cell_type": "code",
   "execution_count": 5,
   "metadata": {},
   "outputs": [
    {
     "data": {
      "text/plain": [
       "(293126, 300)"
      ]
     },
     "execution_count": 5,
     "metadata": {},
     "output_type": "execute_result"
    }
   ],
   "source": [
    "X_review_k.shape"
   ]
  },
  {
   "cell_type": "code",
   "execution_count": 6,
   "metadata": {},
   "outputs": [],
   "source": [
    "# Train split for Supervised Models"
   ]
  },
  {
   "cell_type": "code",
   "execution_count": 7,
   "metadata": {},
   "outputs": [],
   "source": [
    "X_train_h, X_test_h, Y_train_h, Y_test_h = train_test_split(X_review_h, y_h, test_size=0.2, random_state=200)"
   ]
  },
  {
   "cell_type": "code",
   "execution_count": 8,
   "metadata": {},
   "outputs": [],
   "source": [
    "X_train_k, X_test_k, Y_train_k, Y_test_k = train_test_split(X_review_k, y_k, test_size=0.2, random_state=200)"
   ]
  },
  {
   "cell_type": "code",
   "execution_count": 9,
   "metadata": {},
   "outputs": [],
   "source": [
    "# Reduced data for TL & SSL & USL"
   ]
  },
  {
   "cell_type": "code",
   "execution_count": 10,
   "metadata": {},
   "outputs": [],
   "source": [
    "X_train_h_r, X_test_h_r, Y_train_h_r, Y_test_h_r = train_test_split(X_review_h, y_h, train_size = 3000,\n",
    "                                                                   test_size=600,random_state=200, stratify =y_h)"
   ]
  },
  {
   "cell_type": "code",
   "execution_count": 11,
   "metadata": {},
   "outputs": [],
   "source": [
    "X_train_k_r, X_test_k_r, Y_train_k_r, Y_test_k_r = train_test_split(X_review_k, y_k, train_size = 400,\n",
    "                                                                   test_size=200,random_state=200, stratify =y_k)"
   ]
  },
  {
   "cell_type": "markdown",
   "metadata": {},
   "source": [
    "# Perceptron Model"
   ]
  },
  {
   "cell_type": "code",
   "execution_count": 12,
   "metadata": {},
   "outputs": [
    {
     "name": "stdout",
     "output_type": "stream",
     "text": [
      "Best params: {'alpha': 0.0001, 'penalty': 'l2'}\n",
      "Best f1 score: 0.72755\n"
     ]
    }
   ],
   "source": [
    "clfPercep = Perceptron()\n",
    "parameters = {'penalty':['l2','l1'] ,'alpha': [0.0001, 0.0003, 0.001, 0.003, 0.01, 0.03, 0.1, 0.3]}\n",
    "cv = StratifiedKFold(n_splits=5, shuffle = True, random_state =13)\n",
    "gridsearch = GridSearchCV(clfPercep, parameters, cv=cv, scoring='accuracy')\n",
    "# Find the best params with grid search\n",
    "gridsearch.fit(X_train_h, Y_train_h)\n",
    "print(\"Best params: {}\".format(gridsearch.best_params_))\n",
    "print(\"Best f1 score: %.5f\" % gridsearch.best_score_)"
   ]
  },
  {
   "cell_type": "code",
   "execution_count": 13,
   "metadata": {},
   "outputs": [
    {
     "name": "stdout",
     "output_type": "stream",
     "text": [
      "Perceptron model report on training and testing data: \n",
      "\n",
      "The training report is:\n",
      "               precision    recall  f1-score   support\n",
      "\n",
      "           0       0.77      0.80      0.78    234456\n",
      "           1       0.79      0.76      0.77    234440\n",
      "\n",
      "    accuracy                           0.78    468896\n",
      "   macro avg       0.78      0.78      0.78    468896\n",
      "weighted avg       0.78      0.78      0.78    468896\n",
      "\n",
      "The testing report is:\n",
      "               precision    recall  f1-score   support\n",
      "\n",
      "           0       0.76      0.80      0.78     58604\n",
      "           1       0.79      0.75      0.77     58621\n",
      "\n",
      "    accuracy                           0.78    117225\n",
      "   macro avg       0.78      0.78      0.78    117225\n",
      "weighted avg       0.78      0.78      0.78    117225\n",
      "\n"
     ]
    }
   ],
   "source": [
    "print(\"Perceptron model report on training and testing data: \\n\")\n",
    "Y_train_pred = gridsearch.predict(X_train_h)\n",
    "training_report = classification_report(Y_train_h, Y_train_pred, output_dict=False)\n",
    "Y_test_pred = gridsearch.predict(X_test_h)\n",
    "testing_report = classification_report(Y_test_h, Y_test_pred, output_dict=False)\n",
    "print(\"The training report is:\\n\", training_report)\n",
    "print(\"The testing report is:\\n\", testing_report)"
   ]
  },
  {
   "cell_type": "markdown",
   "metadata": {},
   "source": [
    "# Decision Tree Model"
   ]
  },
  {
   "cell_type": "code",
   "execution_count": 14,
   "metadata": {},
   "outputs": [
    {
     "name": "stdout",
     "output_type": "stream",
     "text": [
      "Best params: {'max_depth': 6}\n",
      "Best f1 score: 0.67798\n"
     ]
    }
   ],
   "source": [
    "clfTree = DecisionTreeClassifier(criterion = 'entropy')\n",
    "parameters = {'max_depth': [2, 3, 4, 6]}\n",
    "cv = StratifiedKFold(n_splits=5, shuffle = True, random_state =13)\n",
    "gridsearch = GridSearchCV(clfTree, parameters, cv=cv, scoring='accuracy')\n",
    "# Find the best params with grid search\n",
    "gridsearch.fit(X_train_h, Y_train_h)\n",
    "print(\"Best params: {}\".format(gridsearch.best_params_))\n",
    "print(\"Best f1 score: %.5f\" % gridsearch.best_score_)"
   ]
  },
  {
   "cell_type": "code",
   "execution_count": 15,
   "metadata": {},
   "outputs": [
    {
     "name": "stdout",
     "output_type": "stream",
     "text": [
      "Decision Tree model report on training and testing data: \n",
      "\n",
      "The training report is:\n",
      "               precision    recall  f1-score   support\n",
      "\n",
      "           0       0.67      0.71      0.69    234456\n",
      "           1       0.69      0.65      0.67    234440\n",
      "\n",
      "    accuracy                           0.68    468896\n",
      "   macro avg       0.68      0.68      0.68    468896\n",
      "weighted avg       0.68      0.68      0.68    468896\n",
      "\n",
      "The testing report is:\n",
      "               precision    recall  f1-score   support\n",
      "\n",
      "           0       0.67      0.71      0.69     58604\n",
      "           1       0.69      0.64      0.67     58621\n",
      "\n",
      "    accuracy                           0.68    117225\n",
      "   macro avg       0.68      0.68      0.68    117225\n",
      "weighted avg       0.68      0.68      0.68    117225\n",
      "\n"
     ]
    }
   ],
   "source": [
    "print(\"Decision Tree model report on training and testing data: \\n\")\n",
    "training_report = classification_report(Y_train_h, gridsearch.predict(X_train_h), output_dict=False)\n",
    "testing_report = classification_report(Y_test_h, gridsearch.predict(X_test_h), output_dict=False)\n",
    "print(\"The training report is:\\n\", training_report)\n",
    "print(\"The testing report is:\\n\", testing_report)"
   ]
  },
  {
   "cell_type": "markdown",
   "metadata": {},
   "source": [
    "# Adaboost"
   ]
  },
  {
   "cell_type": "code",
   "execution_count": 16,
   "metadata": {},
   "outputs": [
    {
     "name": "stdout",
     "output_type": "stream",
     "text": [
      "Best params: {'learning_rate': 0.1, 'n_estimators': 80}\n",
      "Best f1 score: 0.72466\n"
     ]
    }
   ],
   "source": [
    "clfAda = AdaBoostClassifier()\n",
    "parameters = { 'n_estimators':[10,50,80], 'learning_rate':[0.001,0.01,0.1]}\n",
    "cv = StratifiedKFold(n_splits=5, shuffle = True, random_state =13)\n",
    "gridsearch = GridSearchCV(clfAda, parameters, cv=cv, scoring='accuracy')\n",
    "# Find the best params with grid search\n",
    "gridsearch.fit(X_train_h, Y_train_h)\n",
    "print(\"Best params: {}\".format(gridsearch.best_params_))\n",
    "print(\"Best f1 score: %.5f\" % gridsearch.best_score_)"
   ]
  },
  {
   "cell_type": "code",
   "execution_count": 17,
   "metadata": {},
   "outputs": [
    {
     "name": "stdout",
     "output_type": "stream",
     "text": [
      "Adaboost model report on training and testing data: \n",
      "\n",
      "The training report is:\n",
      "               precision    recall  f1-score   support\n",
      "\n",
      "           0       0.72      0.74      0.73    234456\n",
      "           1       0.73      0.71      0.72    234440\n",
      "\n",
      "    accuracy                           0.73    468896\n",
      "   macro avg       0.73      0.73      0.73    468896\n",
      "weighted avg       0.73      0.73      0.73    468896\n",
      "\n",
      "The testing report is:\n",
      "               precision    recall  f1-score   support\n",
      "\n",
      "           0       0.72      0.74      0.73     58604\n",
      "           1       0.73      0.71      0.72     58621\n",
      "\n",
      "    accuracy                           0.72    117225\n",
      "   macro avg       0.72      0.72      0.72    117225\n",
      "weighted avg       0.72      0.72      0.72    117225\n",
      "\n"
     ]
    }
   ],
   "source": [
    "print(\"Adaboost model report on training and testing data: \\n\")\n",
    "training_report = classification_report(Y_train_h, gridsearch.predict(X_train_h), output_dict=False)\n",
    "testing_report = classification_report(Y_test_h, gridsearch.predict(X_test_h), output_dict=False)\n",
    "print(\"The training report is:\\n\", training_report)\n",
    "print(\"The testing report is:\\n\", testing_report)"
   ]
  },
  {
   "cell_type": "markdown",
   "metadata": {},
   "source": [
    "# SVM"
   ]
  },
  {
   "cell_type": "code",
   "execution_count": 18,
   "metadata": {
    "scrolled": true
   },
   "outputs": [
    {
     "name": "stderr",
     "output_type": "stream",
     "text": [
      "/Users/khalid/opt/anaconda3/envs/EE660/lib/python3.8/site-packages/sklearn/model_selection/_validation.py:615: FitFailedWarning: Estimator fit failed. The score on this train-test partition for these parameters will be set to nan. Details: \n",
      "Traceback (most recent call last):\n",
      "  File \"/Users/khalid/opt/anaconda3/envs/EE660/lib/python3.8/site-packages/sklearn/model_selection/_validation.py\", line 598, in _fit_and_score\n",
      "    estimator.fit(X_train, y_train, **fit_params)\n",
      "  File \"/Users/khalid/opt/anaconda3/envs/EE660/lib/python3.8/site-packages/sklearn/svm/_classes.py\", line 234, in fit\n",
      "    self.coef_, self.intercept_, self.n_iter_ = _fit_liblinear(\n",
      "  File \"/Users/khalid/opt/anaconda3/envs/EE660/lib/python3.8/site-packages/sklearn/svm/_base.py\", line 974, in _fit_liblinear\n",
      "    solver_type = _get_liblinear_solver_type(multi_class, penalty, loss, dual)\n",
      "  File \"/Users/khalid/opt/anaconda3/envs/EE660/lib/python3.8/site-packages/sklearn/svm/_base.py\", line 830, in _get_liblinear_solver_type\n",
      "    raise ValueError('Unsupported set of arguments: %s, '\n",
      "ValueError: Unsupported set of arguments: The combination of penalty='l1' and loss='squared_hinge' are not supported when dual=True, Parameters: penalty='l1', loss='squared_hinge', dual=True\n",
      "\n",
      "  warnings.warn(\"Estimator fit failed. The score on this train-test\"\n",
      "/Users/khalid/opt/anaconda3/envs/EE660/lib/python3.8/site-packages/sklearn/model_selection/_validation.py:615: FitFailedWarning: Estimator fit failed. The score on this train-test partition for these parameters will be set to nan. Details: \n",
      "Traceback (most recent call last):\n",
      "  File \"/Users/khalid/opt/anaconda3/envs/EE660/lib/python3.8/site-packages/sklearn/model_selection/_validation.py\", line 598, in _fit_and_score\n",
      "    estimator.fit(X_train, y_train, **fit_params)\n",
      "  File \"/Users/khalid/opt/anaconda3/envs/EE660/lib/python3.8/site-packages/sklearn/svm/_classes.py\", line 234, in fit\n",
      "    self.coef_, self.intercept_, self.n_iter_ = _fit_liblinear(\n",
      "  File \"/Users/khalid/opt/anaconda3/envs/EE660/lib/python3.8/site-packages/sklearn/svm/_base.py\", line 974, in _fit_liblinear\n",
      "    solver_type = _get_liblinear_solver_type(multi_class, penalty, loss, dual)\n",
      "  File \"/Users/khalid/opt/anaconda3/envs/EE660/lib/python3.8/site-packages/sklearn/svm/_base.py\", line 830, in _get_liblinear_solver_type\n",
      "    raise ValueError('Unsupported set of arguments: %s, '\n",
      "ValueError: Unsupported set of arguments: The combination of penalty='l1' and loss='squared_hinge' are not supported when dual=True, Parameters: penalty='l1', loss='squared_hinge', dual=True\n",
      "\n",
      "  warnings.warn(\"Estimator fit failed. The score on this train-test\"\n",
      "/Users/khalid/opt/anaconda3/envs/EE660/lib/python3.8/site-packages/sklearn/model_selection/_validation.py:615: FitFailedWarning: Estimator fit failed. The score on this train-test partition for these parameters will be set to nan. Details: \n",
      "Traceback (most recent call last):\n",
      "  File \"/Users/khalid/opt/anaconda3/envs/EE660/lib/python3.8/site-packages/sklearn/model_selection/_validation.py\", line 598, in _fit_and_score\n",
      "    estimator.fit(X_train, y_train, **fit_params)\n",
      "  File \"/Users/khalid/opt/anaconda3/envs/EE660/lib/python3.8/site-packages/sklearn/svm/_classes.py\", line 234, in fit\n",
      "    self.coef_, self.intercept_, self.n_iter_ = _fit_liblinear(\n",
      "  File \"/Users/khalid/opt/anaconda3/envs/EE660/lib/python3.8/site-packages/sklearn/svm/_base.py\", line 974, in _fit_liblinear\n",
      "    solver_type = _get_liblinear_solver_type(multi_class, penalty, loss, dual)\n",
      "  File \"/Users/khalid/opt/anaconda3/envs/EE660/lib/python3.8/site-packages/sklearn/svm/_base.py\", line 830, in _get_liblinear_solver_type\n",
      "    raise ValueError('Unsupported set of arguments: %s, '\n",
      "ValueError: Unsupported set of arguments: The combination of penalty='l1' and loss='squared_hinge' are not supported when dual=True, Parameters: penalty='l1', loss='squared_hinge', dual=True\n",
      "\n",
      "  warnings.warn(\"Estimator fit failed. The score on this train-test\"\n",
      "/Users/khalid/opt/anaconda3/envs/EE660/lib/python3.8/site-packages/sklearn/model_selection/_validation.py:615: FitFailedWarning: Estimator fit failed. The score on this train-test partition for these parameters will be set to nan. Details: \n",
      "Traceback (most recent call last):\n",
      "  File \"/Users/khalid/opt/anaconda3/envs/EE660/lib/python3.8/site-packages/sklearn/model_selection/_validation.py\", line 598, in _fit_and_score\n",
      "    estimator.fit(X_train, y_train, **fit_params)\n",
      "  File \"/Users/khalid/opt/anaconda3/envs/EE660/lib/python3.8/site-packages/sklearn/svm/_classes.py\", line 234, in fit\n",
      "    self.coef_, self.intercept_, self.n_iter_ = _fit_liblinear(\n",
      "  File \"/Users/khalid/opt/anaconda3/envs/EE660/lib/python3.8/site-packages/sklearn/svm/_base.py\", line 974, in _fit_liblinear\n",
      "    solver_type = _get_liblinear_solver_type(multi_class, penalty, loss, dual)\n",
      "  File \"/Users/khalid/opt/anaconda3/envs/EE660/lib/python3.8/site-packages/sklearn/svm/_base.py\", line 830, in _get_liblinear_solver_type\n",
      "    raise ValueError('Unsupported set of arguments: %s, '\n",
      "ValueError: Unsupported set of arguments: The combination of penalty='l1' and loss='squared_hinge' are not supported when dual=True, Parameters: penalty='l1', loss='squared_hinge', dual=True\n",
      "\n",
      "  warnings.warn(\"Estimator fit failed. The score on this train-test\"\n",
      "/Users/khalid/opt/anaconda3/envs/EE660/lib/python3.8/site-packages/sklearn/model_selection/_validation.py:615: FitFailedWarning: Estimator fit failed. The score on this train-test partition for these parameters will be set to nan. Details: \n",
      "Traceback (most recent call last):\n",
      "  File \"/Users/khalid/opt/anaconda3/envs/EE660/lib/python3.8/site-packages/sklearn/model_selection/_validation.py\", line 598, in _fit_and_score\n",
      "    estimator.fit(X_train, y_train, **fit_params)\n",
      "  File \"/Users/khalid/opt/anaconda3/envs/EE660/lib/python3.8/site-packages/sklearn/svm/_classes.py\", line 234, in fit\n",
      "    self.coef_, self.intercept_, self.n_iter_ = _fit_liblinear(\n",
      "  File \"/Users/khalid/opt/anaconda3/envs/EE660/lib/python3.8/site-packages/sklearn/svm/_base.py\", line 974, in _fit_liblinear\n",
      "    solver_type = _get_liblinear_solver_type(multi_class, penalty, loss, dual)\n",
      "  File \"/Users/khalid/opt/anaconda3/envs/EE660/lib/python3.8/site-packages/sklearn/svm/_base.py\", line 830, in _get_liblinear_solver_type\n",
      "    raise ValueError('Unsupported set of arguments: %s, '\n",
      "ValueError: Unsupported set of arguments: The combination of penalty='l1' and loss='squared_hinge' are not supported when dual=True, Parameters: penalty='l1', loss='squared_hinge', dual=True\n",
      "\n",
      "  warnings.warn(\"Estimator fit failed. The score on this train-test\"\n",
      "/Users/khalid/opt/anaconda3/envs/EE660/lib/python3.8/site-packages/sklearn/model_selection/_search.py:922: UserWarning: One or more of the test scores are non-finite: [       nan 0.80147197]\n",
      "  warnings.warn(\n"
     ]
    },
    {
     "name": "stdout",
     "output_type": "stream",
     "text": [
      "Best params: {'penalty': 'l2'}\n",
      "Best f1 score: 0.80147\n"
     ]
    }
   ],
   "source": [
    "clfSVM = LinearSVC()\n",
    "parameters = {'penalty':['l1', 'l2']}\n",
    "cv = StratifiedKFold(n_splits=5, shuffle = True, random_state =13)\n",
    "gridsearch = GridSearchCV(clfSVM, parameters, cv=cv, scoring='accuracy')\n",
    "# Find the best params with grid search\n",
    "gridsearch.fit(X_train_h, Y_train_h)\n",
    "print(\"Best params: {}\".format(gridsearch.best_params_))\n",
    "print(\"Best f1 score: %.5f\" % gridsearch.best_score_)"
   ]
  },
  {
   "cell_type": "code",
   "execution_count": 19,
   "metadata": {},
   "outputs": [
    {
     "name": "stdout",
     "output_type": "stream",
     "text": [
      "SVM model report on training and testing data: \n",
      "\n",
      "The training report is:\n",
      "               precision    recall  f1-score   support\n",
      "\n",
      "           0       0.80      0.81      0.80    234456\n",
      "           1       0.81      0.79      0.80    234440\n",
      "\n",
      "    accuracy                           0.80    468896\n",
      "   macro avg       0.80      0.80      0.80    468896\n",
      "weighted avg       0.80      0.80      0.80    468896\n",
      "\n",
      "The testing report is:\n",
      "               precision    recall  f1-score   support\n",
      "\n",
      "           0       0.79      0.81      0.80     58604\n",
      "           1       0.81      0.79      0.80     58621\n",
      "\n",
      "    accuracy                           0.80    117225\n",
      "   macro avg       0.80      0.80      0.80    117225\n",
      "weighted avg       0.80      0.80      0.80    117225\n",
      "\n"
     ]
    }
   ],
   "source": [
    "print(\"SVM model report on training and testing data: \\n\")\n",
    "training_report = classification_report(Y_train_h, gridsearch.predict(X_train_h), output_dict=False)\n",
    "testing_report = classification_report(Y_test_h, gridsearch.predict(X_test_h), output_dict=False)\n",
    "print(\"The training report is:\\n\", training_report)\n",
    "print(\"The testing report is:\\n\", testing_report)"
   ]
  },
  {
   "cell_type": "markdown",
   "metadata": {},
   "source": [
    "# Logistic Regression "
   ]
  },
  {
   "cell_type": "code",
   "execution_count": 20,
   "metadata": {},
   "outputs": [
    {
     "name": "stderr",
     "output_type": "stream",
     "text": [
      "/Users/khalid/opt/anaconda3/envs/EE660/lib/python3.8/site-packages/sklearn/linear_model/_logistic.py:763: ConvergenceWarning: lbfgs failed to converge (status=1):\n",
      "STOP: TOTAL NO. of ITERATIONS REACHED LIMIT.\n",
      "\n",
      "Increase the number of iterations (max_iter) or scale the data as shown in:\n",
      "    https://scikit-learn.org/stable/modules/preprocessing.html\n",
      "Please also refer to the documentation for alternative solver options:\n",
      "    https://scikit-learn.org/stable/modules/linear_model.html#logistic-regression\n",
      "  n_iter_i = _check_optimize_result(\n",
      "/Users/khalid/opt/anaconda3/envs/EE660/lib/python3.8/site-packages/sklearn/linear_model/_logistic.py:763: ConvergenceWarning: lbfgs failed to converge (status=1):\n",
      "STOP: TOTAL NO. of ITERATIONS REACHED LIMIT.\n",
      "\n",
      "Increase the number of iterations (max_iter) or scale the data as shown in:\n",
      "    https://scikit-learn.org/stable/modules/preprocessing.html\n",
      "Please also refer to the documentation for alternative solver options:\n",
      "    https://scikit-learn.org/stable/modules/linear_model.html#logistic-regression\n",
      "  n_iter_i = _check_optimize_result(\n",
      "/Users/khalid/opt/anaconda3/envs/EE660/lib/python3.8/site-packages/sklearn/linear_model/_logistic.py:763: ConvergenceWarning: lbfgs failed to converge (status=1):\n",
      "STOP: TOTAL NO. of ITERATIONS REACHED LIMIT.\n",
      "\n",
      "Increase the number of iterations (max_iter) or scale the data as shown in:\n",
      "    https://scikit-learn.org/stable/modules/preprocessing.html\n",
      "Please also refer to the documentation for alternative solver options:\n",
      "    https://scikit-learn.org/stable/modules/linear_model.html#logistic-regression\n",
      "  n_iter_i = _check_optimize_result(\n",
      "/Users/khalid/opt/anaconda3/envs/EE660/lib/python3.8/site-packages/sklearn/linear_model/_logistic.py:763: ConvergenceWarning: lbfgs failed to converge (status=1):\n",
      "STOP: TOTAL NO. of ITERATIONS REACHED LIMIT.\n",
      "\n",
      "Increase the number of iterations (max_iter) or scale the data as shown in:\n",
      "    https://scikit-learn.org/stable/modules/preprocessing.html\n",
      "Please also refer to the documentation for alternative solver options:\n",
      "    https://scikit-learn.org/stable/modules/linear_model.html#logistic-regression\n",
      "  n_iter_i = _check_optimize_result(\n",
      "/Users/khalid/opt/anaconda3/envs/EE660/lib/python3.8/site-packages/sklearn/linear_model/_logistic.py:763: ConvergenceWarning: lbfgs failed to converge (status=1):\n",
      "STOP: TOTAL NO. of ITERATIONS REACHED LIMIT.\n",
      "\n",
      "Increase the number of iterations (max_iter) or scale the data as shown in:\n",
      "    https://scikit-learn.org/stable/modules/preprocessing.html\n",
      "Please also refer to the documentation for alternative solver options:\n",
      "    https://scikit-learn.org/stable/modules/linear_model.html#logistic-regression\n",
      "  n_iter_i = _check_optimize_result(\n",
      "/Users/khalid/opt/anaconda3/envs/EE660/lib/python3.8/site-packages/sklearn/model_selection/_validation.py:615: FitFailedWarning: Estimator fit failed. The score on this train-test partition for these parameters will be set to nan. Details: \n",
      "Traceback (most recent call last):\n",
      "  File \"/Users/khalid/opt/anaconda3/envs/EE660/lib/python3.8/site-packages/sklearn/model_selection/_validation.py\", line 598, in _fit_and_score\n",
      "    estimator.fit(X_train, y_train, **fit_params)\n",
      "  File \"/Users/khalid/opt/anaconda3/envs/EE660/lib/python3.8/site-packages/sklearn/linear_model/_logistic.py\", line 1306, in fit\n",
      "    solver = _check_solver(self.solver, self.penalty, self.dual)\n",
      "  File \"/Users/khalid/opt/anaconda3/envs/EE660/lib/python3.8/site-packages/sklearn/linear_model/_logistic.py\", line 443, in _check_solver\n",
      "    raise ValueError(\"Solver %s supports only 'l2' or 'none' penalties, \"\n",
      "ValueError: Solver lbfgs supports only 'l2' or 'none' penalties, got l1 penalty.\n",
      "\n",
      "  warnings.warn(\"Estimator fit failed. The score on this train-test\"\n",
      "/Users/khalid/opt/anaconda3/envs/EE660/lib/python3.8/site-packages/sklearn/model_selection/_validation.py:615: FitFailedWarning: Estimator fit failed. The score on this train-test partition for these parameters will be set to nan. Details: \n",
      "Traceback (most recent call last):\n",
      "  File \"/Users/khalid/opt/anaconda3/envs/EE660/lib/python3.8/site-packages/sklearn/model_selection/_validation.py\", line 598, in _fit_and_score\n",
      "    estimator.fit(X_train, y_train, **fit_params)\n",
      "  File \"/Users/khalid/opt/anaconda3/envs/EE660/lib/python3.8/site-packages/sklearn/linear_model/_logistic.py\", line 1306, in fit\n",
      "    solver = _check_solver(self.solver, self.penalty, self.dual)\n",
      "  File \"/Users/khalid/opt/anaconda3/envs/EE660/lib/python3.8/site-packages/sklearn/linear_model/_logistic.py\", line 443, in _check_solver\n",
      "    raise ValueError(\"Solver %s supports only 'l2' or 'none' penalties, \"\n",
      "ValueError: Solver lbfgs supports only 'l2' or 'none' penalties, got l1 penalty.\n",
      "\n",
      "  warnings.warn(\"Estimator fit failed. The score on this train-test\"\n",
      "/Users/khalid/opt/anaconda3/envs/EE660/lib/python3.8/site-packages/sklearn/model_selection/_validation.py:615: FitFailedWarning: Estimator fit failed. The score on this train-test partition for these parameters will be set to nan. Details: \n",
      "Traceback (most recent call last):\n",
      "  File \"/Users/khalid/opt/anaconda3/envs/EE660/lib/python3.8/site-packages/sklearn/model_selection/_validation.py\", line 598, in _fit_and_score\n",
      "    estimator.fit(X_train, y_train, **fit_params)\n",
      "  File \"/Users/khalid/opt/anaconda3/envs/EE660/lib/python3.8/site-packages/sklearn/linear_model/_logistic.py\", line 1306, in fit\n",
      "    solver = _check_solver(self.solver, self.penalty, self.dual)\n",
      "  File \"/Users/khalid/opt/anaconda3/envs/EE660/lib/python3.8/site-packages/sklearn/linear_model/_logistic.py\", line 443, in _check_solver\n",
      "    raise ValueError(\"Solver %s supports only 'l2' or 'none' penalties, \"\n",
      "ValueError: Solver lbfgs supports only 'l2' or 'none' penalties, got l1 penalty.\n",
      "\n",
      "  warnings.warn(\"Estimator fit failed. The score on this train-test\"\n",
      "/Users/khalid/opt/anaconda3/envs/EE660/lib/python3.8/site-packages/sklearn/model_selection/_validation.py:615: FitFailedWarning: Estimator fit failed. The score on this train-test partition for these parameters will be set to nan. Details: \n",
      "Traceback (most recent call last):\n",
      "  File \"/Users/khalid/opt/anaconda3/envs/EE660/lib/python3.8/site-packages/sklearn/model_selection/_validation.py\", line 598, in _fit_and_score\n",
      "    estimator.fit(X_train, y_train, **fit_params)\n",
      "  File \"/Users/khalid/opt/anaconda3/envs/EE660/lib/python3.8/site-packages/sklearn/linear_model/_logistic.py\", line 1306, in fit\n",
      "    solver = _check_solver(self.solver, self.penalty, self.dual)\n",
      "  File \"/Users/khalid/opt/anaconda3/envs/EE660/lib/python3.8/site-packages/sklearn/linear_model/_logistic.py\", line 443, in _check_solver\n",
      "    raise ValueError(\"Solver %s supports only 'l2' or 'none' penalties, \"\n",
      "ValueError: Solver lbfgs supports only 'l2' or 'none' penalties, got l1 penalty.\n",
      "\n",
      "  warnings.warn(\"Estimator fit failed. The score on this train-test\"\n",
      "/Users/khalid/opt/anaconda3/envs/EE660/lib/python3.8/site-packages/sklearn/model_selection/_validation.py:615: FitFailedWarning: Estimator fit failed. The score on this train-test partition for these parameters will be set to nan. Details: \n",
      "Traceback (most recent call last):\n",
      "  File \"/Users/khalid/opt/anaconda3/envs/EE660/lib/python3.8/site-packages/sklearn/model_selection/_validation.py\", line 598, in _fit_and_score\n",
      "    estimator.fit(X_train, y_train, **fit_params)\n",
      "  File \"/Users/khalid/opt/anaconda3/envs/EE660/lib/python3.8/site-packages/sklearn/linear_model/_logistic.py\", line 1306, in fit\n",
      "    solver = _check_solver(self.solver, self.penalty, self.dual)\n",
      "  File \"/Users/khalid/opt/anaconda3/envs/EE660/lib/python3.8/site-packages/sklearn/linear_model/_logistic.py\", line 443, in _check_solver\n",
      "    raise ValueError(\"Solver %s supports only 'l2' or 'none' penalties, \"\n",
      "ValueError: Solver lbfgs supports only 'l2' or 'none' penalties, got l1 penalty.\n",
      "\n",
      "  warnings.warn(\"Estimator fit failed. The score on this train-test\"\n",
      "/Users/khalid/opt/anaconda3/envs/EE660/lib/python3.8/site-packages/sklearn/model_selection/_search.py:922: UserWarning: One or more of the test scores are non-finite: [0.80150822        nan]\n",
      "  warnings.warn(\n"
     ]
    },
    {
     "name": "stdout",
     "output_type": "stream",
     "text": [
      "Best params: {'penalty': 'l2'}\n",
      "Best f1 score: 0.80151\n"
     ]
    },
    {
     "name": "stderr",
     "output_type": "stream",
     "text": [
      "/Users/khalid/opt/anaconda3/envs/EE660/lib/python3.8/site-packages/sklearn/linear_model/_logistic.py:763: ConvergenceWarning: lbfgs failed to converge (status=1):\n",
      "STOP: TOTAL NO. of ITERATIONS REACHED LIMIT.\n",
      "\n",
      "Increase the number of iterations (max_iter) or scale the data as shown in:\n",
      "    https://scikit-learn.org/stable/modules/preprocessing.html\n",
      "Please also refer to the documentation for alternative solver options:\n",
      "    https://scikit-learn.org/stable/modules/linear_model.html#logistic-regression\n",
      "  n_iter_i = _check_optimize_result(\n"
     ]
    }
   ],
   "source": [
    "clf = LogisticRegression()\n",
    "parameters = {'penalty':['l2','l1'] }\n",
    "cv = StratifiedKFold(n_splits=5, shuffle = True, random_state =13)\n",
    "gridsearch = GridSearchCV(clf, parameters, cv=cv, scoring='accuracy')\n",
    "gridsearch.fit(X_train_h, Y_train_h)\n",
    "print(\"Best params: {}\".format(gridsearch.best_params_))\n",
    "print(\"Best f1 score: %.5f\" % gridsearch.best_score_)"
   ]
  },
  {
   "cell_type": "code",
   "execution_count": 22,
   "metadata": {},
   "outputs": [
    {
     "name": "stdout",
     "output_type": "stream",
     "text": [
      "Logistic model report on training and testing data: \n",
      "\n",
      "The training report is:\n",
      "               precision    recall  f1-score   support\n",
      "\n",
      "           0       0.80      0.81      0.80    234456\n",
      "           1       0.81      0.79      0.80    234440\n",
      "\n",
      "    accuracy                           0.80    468896\n",
      "   macro avg       0.80      0.80      0.80    468896\n",
      "weighted avg       0.80      0.80      0.80    468896\n",
      "\n",
      "The testing report is:\n",
      "               precision    recall  f1-score   support\n",
      "\n",
      "           0       0.80      0.81      0.80     58604\n",
      "           1       0.81      0.79      0.80     58621\n",
      "\n",
      "    accuracy                           0.80    117225\n",
      "   macro avg       0.80      0.80      0.80    117225\n",
      "weighted avg       0.80      0.80      0.80    117225\n",
      "\n"
     ]
    }
   ],
   "source": [
    "print(\"Logistic model report on training and testing data: \\n\")\n",
    "Y_train_pred = gridsearch.predict(X_train_h)\n",
    "training_report = classification_report(Y_train_h, Y_train_pred, output_dict=False)\n",
    "Y_test_pred = gridsearch.predict(X_test_h)\n",
    "testing_report = classification_report(Y_test_h, Y_test_pred, output_dict=False)\n",
    "print(\"The training report is:\\n\", training_report)\n",
    "print(\"The testing report is:\\n\", testing_report)"
   ]
  },
  {
   "cell_type": "markdown",
   "metadata": {},
   "source": [
    "# Baseline Models"
   ]
  },
  {
   "cell_type": "code",
   "execution_count": 22,
   "metadata": {},
   "outputs": [],
   "source": [
    "def base_model_1(y_train, y_test):\n",
    "    unique, counts = np.unique(y_train, return_counts=True)\n",
    "    total = len(y_train)\n",
    "    pi = []\n",
    "    for value in counts:\n",
    "        pi.append(value/total)\n",
    "    Error_train = []\n",
    "    Error_test = []\n",
    "    for i in range(10):\n",
    "        random.seed(i)\n",
    "        y_predicted = []\n",
    "        y_predicted_test = []\n",
    "        for j in range(total):\n",
    "            y_predicted.append(random.choices(unique, weights=pi))\n",
    "        for k in range(len(y_test)):\n",
    "            y_predicted_test.append(random.choices(unique, weights=pi))\n",
    "        Error_train.append( 1 - accuracy_score(y_train, y_predicted) )\n",
    "        Error_test.append( 1 - accuracy_score(y_test, y_predicted_test) )\n",
    "    mean_error_train = np.mean(Error_train)\n",
    "    std_train = np.std(Error_train)\n",
    "    print('mean percent classification error (training): %.3f'\\\n",
    "          %mean_error_train)\n",
    "    print('std of (training): %.4f'  %std_train)\n",
    "    mean_error_test = np.mean(Error_test)\n",
    "    std_test = np.std(Error_test)\n",
    "    print('mean percent classification error (test): %.3f'%mean_error_test)\n",
    "    print('std of (test): %.4f' %std_test)\n",
    "    return\n"
   ]
  },
  {
   "cell_type": "code",
   "execution_count": 23,
   "metadata": {},
   "outputs": [],
   "source": [
    "def base_model_2(y_train, y_test):\n",
    "    unique, counts = np.unique(y_train, return_counts=True)\n",
    "    total = len(y_train)\n",
    "    pi = []\n",
    "    for value in counts:\n",
    "        pi.append(value/total)\n",
    "    idx = np.argmax(pi)\n",
    "    y_predicted = []\n",
    "    y_predicted_test = []\n",
    "    for j in range(total):\n",
    "        y_predicted.append( unique[idx] )\n",
    "    Error_train = 1 - accuracy_score(y_train, y_predicted)\n",
    "    print('percent classification error (training): %.3f'%Error_train)\n",
    "    for k in range(len(y_test)):\n",
    "        y_predicted_test.append( unique[idx] )\n",
    "    Error_test = 1 - accuracy_score(y_test, y_predicted_test)\n",
    "    print('percent classification error (test): %.3f'%Error_test)\n",
    "    return\n"
   ]
  },
  {
   "cell_type": "code",
   "execution_count": 24,
   "metadata": {},
   "outputs": [
    {
     "name": "stdout",
     "output_type": "stream",
     "text": [
      "mean percent classification error (training): 0.500\n",
      "std of (training): 0.0008\n",
      "mean percent classification error (test): 0.500\n",
      "std of (test): 0.0015\n"
     ]
    }
   ],
   "source": [
    "base_model_1(Y_train_h, Y_test_h)"
   ]
  },
  {
   "cell_type": "code",
   "execution_count": 25,
   "metadata": {},
   "outputs": [
    {
     "name": "stdout",
     "output_type": "stream",
     "text": [
      "percent classification error (training): 0.500\n",
      "percent classification error (test): 0.500\n"
     ]
    }
   ],
   "source": [
    "base_model_2(Y_train_h, Y_test_h)"
   ]
  },
  {
   "cell_type": "markdown",
   "metadata": {},
   "source": [
    "# Transfer Learning"
   ]
  },
  {
   "cell_type": "code",
   "execution_count": 13,
   "metadata": {},
   "outputs": [
    {
     "name": "stdout",
     "output_type": "stream",
     "text": [
      "SVM model report on training and testing data: \n",
      "\n",
      "The training report is:\n",
      "               precision    recall  f1-score   support\n",
      "\n",
      "           0       0.82      0.83      0.83      1500\n",
      "           1       0.83      0.82      0.83      1500\n",
      "\n",
      "    accuracy                           0.83      3000\n",
      "   macro avg       0.83      0.83      0.83      3000\n",
      "weighted avg       0.83      0.83      0.83      3000\n",
      "\n",
      "The testing report is:\n",
      "               precision    recall  f1-score   support\n",
      "\n",
      "           0       0.78      0.77      0.77       300\n",
      "           1       0.77      0.78      0.77       300\n",
      "\n",
      "    accuracy                           0.77       600\n",
      "   macro avg       0.77      0.77      0.77       600\n",
      "weighted avg       0.77      0.77      0.77       600\n",
      "\n"
     ]
    }
   ],
   "source": [
    "# supervised Learninig for the reduced data as a basline for TL Source\n",
    "clfSVM = LinearSVC(penalty= 'l2')\n",
    "clfSVM.fit(X_train_h_r, Y_train_h_r)\n",
    "\n",
    "print(\"SVM model report on training and testing data: \\n\")\n",
    "training_report = classification_report(Y_train_h_r, clfSVM.predict(X_train_h_r), output_dict=False)\n",
    "testing_report = classification_report(Y_test_h_r, clfSVM.predict(X_test_h_r), output_dict=False)\n",
    "print(\"The training report is:\\n\", training_report)\n",
    "print(\"The testing report is:\\n\", testing_report)"
   ]
  },
  {
   "cell_type": "code",
   "execution_count": 14,
   "metadata": {},
   "outputs": [
    {
     "name": "stdout",
     "output_type": "stream",
     "text": [
      "The testing report is:\n",
      "               precision    recall  f1-score   support\n",
      "\n",
      "           0       0.82      0.69      0.75       100\n",
      "           1       0.73      0.85      0.79       100\n",
      "\n",
      "    accuracy                           0.77       200\n",
      "   macro avg       0.78      0.77      0.77       200\n",
      "weighted avg       0.78      0.77      0.77       200\n",
      "\n"
     ]
    }
   ],
   "source": [
    "# using source predict target\n",
    "testing_report = classification_report(Y_test_k_r, clfSVM.predict(X_test_k_r), output_dict=False)\n",
    "print(\"The testing report is:\\n\", testing_report)"
   ]
  },
  {
   "cell_type": "code",
   "execution_count": 15,
   "metadata": {},
   "outputs": [
    {
     "name": "stdout",
     "output_type": "stream",
     "text": [
      "SVM model report on training and testing data: \n",
      "\n",
      "The training report is:\n",
      "               precision    recall  f1-score   support\n",
      "\n",
      "           0       0.92      0.96      0.94       200\n",
      "           1       0.96      0.92      0.94       200\n",
      "\n",
      "    accuracy                           0.94       400\n",
      "   macro avg       0.94      0.94      0.94       400\n",
      "weighted avg       0.94      0.94      0.94       400\n",
      "\n",
      "The testing report is:\n",
      "               precision    recall  f1-score   support\n",
      "\n",
      "           0       0.75      0.79      0.77       100\n",
      "           1       0.78      0.73      0.75       100\n",
      "\n",
      "    accuracy                           0.76       200\n",
      "   macro avg       0.76      0.76      0.76       200\n",
      "weighted avg       0.76      0.76      0.76       200\n",
      "\n"
     ]
    }
   ],
   "source": [
    "# supervised Learninig for the reduced data as a basline for TL Target\n",
    "clfSVM = LinearSVC(penalty= 'l2')\n",
    "clfSVM.fit(X_train_k_r, Y_train_k_r)\n",
    "\n",
    "print(\"SVM model report on training and testing data: \\n\")\n",
    "training_report = classification_report(Y_train_k_r, clfSVM.predict(X_train_k_r), output_dict=False)\n",
    "testing_report = classification_report(Y_test_k_r, clfSVM.predict(X_test_k_r), output_dict=False)\n",
    "print(\"The training report is:\\n\", training_report)\n",
    "print(\"The testing report is:\\n\", testing_report)"
   ]
  },
  {
   "cell_type": "code",
   "execution_count": 17,
   "metadata": {},
   "outputs": [
    {
     "name": "stdout",
     "output_type": "stream",
     "text": [
      "SVM model report on training and testing data: \n",
      "\n",
      "The training report is:\n",
      "               precision    recall  f1-score   support\n",
      "\n",
      "           0       0.82      0.83      0.83      1700\n",
      "           1       0.83      0.82      0.82      1700\n",
      "\n",
      "    accuracy                           0.82      3400\n",
      "   macro avg       0.82      0.82      0.82      3400\n",
      "weighted avg       0.82      0.82      0.82      3400\n",
      "\n",
      "The testing report is:\n",
      "               precision    recall  f1-score   support\n",
      "\n",
      "           0       0.80      0.75      0.77       100\n",
      "           1       0.76      0.81      0.79       100\n",
      "\n",
      "    accuracy                           0.78       200\n",
      "   macro avg       0.78      0.78      0.78       200\n",
      "weighted avg       0.78      0.78      0.78       200\n",
      "\n"
     ]
    }
   ],
   "source": [
    "X_uninon = np.concatenate((X_train_h_r, X_train_k_r), axis=0)\n",
    "y_uninon = np.concatenate((Y_train_h_r, Y_train_k_r), axis=0)\n",
    "\n",
    "clf_unio = LinearSVC(penalty='l2')\n",
    "clf_unio.fit(X_uninon, y_uninon)\n",
    "print(\"SVM model report on training and testing data: \\n\")\n",
    "training_report = classification_report(y_uninon, clf_unio.predict(X_uninon), output_dict=False)\n",
    "testing_report = classification_report(Y_test_k_r, clf_unio.predict(X_test_k_r), output_dict=False)\n",
    "print(\"The training report is:\\n\", training_report)\n",
    "print(\"The testing report is:\\n\", testing_report)"
   ]
  },
  {
   "cell_type": "markdown",
   "metadata": {},
   "source": [
    "# TrAdaboost"
   ]
  },
  {
   "cell_type": "code",
   "execution_count": 28,
   "metadata": {},
   "outputs": [],
   "source": [
    "class TrAdaBoost(object):\n",
    "    def __init__(self,N=10,base_estimator=DecisionTreeClassifier(),score=roc_auc_score):    \n",
    "        self.N=N\n",
    "        self.base_estimator=base_estimator\n",
    "        self.score=score\n",
    "        self.beta_all = None\n",
    "        self.estimators=[]\n",
    "            \n",
    "    def _calculate_weights(self,weights): \n",
    "        weights = weights.ravel()     \n",
    "        total = np.sum(weights)   \n",
    "        print(\"Total weight is: \",total,\" min Weight is: \",np.min(weights),\" max Weight is: \",np.max(weights))   \n",
    "        return np.asarray(weights / total, order='C')      \n",
    "                    \n",
    "    def _calculate_error_rate(self,y_true, y_pred, weight):      \n",
    "        weight = weight.ravel()\n",
    "        total = np.sum(weight) \n",
    "        print(\"Total weight is: \",total,\" min Weight is: \",np.min(weight),\" max Weight is: \",np.max(weight))     \n",
    "        return np.sum(weight / total * np.abs(y_true - y_pred))      \n",
    "             \n",
    "    def fit(self,source,target,source_label,target_label):\n",
    "        source_shape=source.shape[0]\n",
    "        target_shape=target.shape[0]\n",
    "        trans_data = np.concatenate((source, target), axis=0)      \n",
    "        trans_label = np.concatenate((source_label,target_label), axis=0)      \n",
    "        weights_source = np.ones([source_shape, 1])/source_shape      \n",
    "        weights_target = np.ones([target_shape, 1])/target_shape\n",
    "        weights = np.concatenate((weights_source, weights_target), axis=0)\n",
    "        \n",
    "        bata = 1 / (1 + np.sqrt(2 * np.log(source_shape / self.N)))    \n",
    "        self.beta_all = np.zeros([1, self.N])\n",
    "        result_label = np.ones([source_shape+target_shape, self.N])    \n",
    "\n",
    "        trans_data = np.asarray(trans_data, order='C')\n",
    "        trans_label = np.asarray(trans_label, order='C')     \n",
    "        \n",
    "        best_round = 0\n",
    "        score=0\n",
    "        flag=0\n",
    "        \n",
    "        for i in tqdm(range(self.N)):      \n",
    "            P = self._calculate_weights(weights) \n",
    "            est = clone(self.base_estimator).fit(trans_data,trans_label,sample_weight=P.ravel())\n",
    "            self.estimators.append(est)\n",
    "            y_preds=est.predict(trans_data)\n",
    "            result_label[:, i]=y_preds\n",
    "\n",
    "            y_target_pred=est.predict(target)\n",
    "            error_rate = self._calculate_error_rate(target_label, y_target_pred,  \\\n",
    "                                              weights[source_shape:source_shape + target_shape, :])  \n",
    "                  \n",
    "            if error_rate >= 0.5 or error_rate == 0:      \n",
    "                self.N = i\n",
    "                print('early stop! due to error_rate=%.2f'%(error_rate))      \n",
    "                break       \n",
    "\n",
    "            self.beta_all[0, i] = error_rate / (1 - error_rate)      \n",
    "     \n",
    "            for j in range(target_shape):      \n",
    "                weights[source_shape + j] = weights[source_shape + j] * \\\n",
    "                np.power(self.beta_all[0, i],(-np.abs(result_label[source_shape + j, i] - target_label[j])))\n",
    "  \n",
    "            for j in range(source_shape):      \n",
    "                weights[j] = weights[j] * np.power(bata,np.abs(result_label[j, i] - source_label[j]))\n",
    "                \n",
    "            tp=self.score(target_label,y_target_pred)\n",
    "            print('The '+str(i)+' rounds score is '+str(tp))\n",
    "\n",
    "    def _predict_one(self, x):\n",
    "        \"\"\"\n",
    "        Output the hypothesis for a single instance\n",
    "        :param x: array-like\n",
    "            target label of a single instance from each iteration in order\n",
    "        :return: 0 or 1\n",
    "        \"\"\"\n",
    "        x, N = check_array(x, ensure_2d=False), self.N\n",
    "        # replace 0 by 1 to avoid zero division and remove it from the product\n",
    "        beta = [self.beta_all[0,t] if self.beta_all[0,t] != 0 else 1 for t in range(int(np.ceil(N/2)), N)]\n",
    "        cond = np.prod([b ** -x for b in beta]) >= np.prod([b ** -0.5 for b in beta])\n",
    "        return int(cond)\n",
    "\n",
    "    def predict(self, x_test):\n",
    "        y_pred_list = np.array([est.predict(x_test) for est in self.estimators]).T\n",
    "        y_pred = np.array(list(map(self._predict_one, y_pred_list)))\n",
    "        return y_pred\n",
    "\n"
   ]
  },
  {
   "cell_type": "code",
   "execution_count": 268,
   "metadata": {},
   "outputs": [
    {
     "name": "stderr",
     "output_type": "stream",
     "text": [
      " 75%|█████████████████████████████████▊           | 3/4 [00:00<00:00, 14.97it/s]"
     ]
    },
    {
     "name": "stdout",
     "output_type": "stream",
     "text": [
      "Total weight is:  2.0  min Weight is:  0.0003333333333333333  max Weight is:  0.0025\n",
      "Total weight is:  0.9999999999999998  min Weight is:  0.0025  max Weight is:  0.0025\n",
      "The 0 rounds score is 0.7825\n",
      "Total weight is:  2.3508526805907266  min Weight is:  7.185919486047216e-05  max Weight is:  0.008994252873563216\n",
      "Total weight is:  1.565  min Weight is:  0.0025  max Weight is:  0.008994252873563216\n",
      "The 1 rounds score is 0.5\n",
      "Total weight is:  2.4302746267282815  min Weight is:  1.5491231657985927e-05  max Weight is:  0.014313940883574195\n",
      "Total weight is:  1.922183908045977  min Weight is:  0.0025  max Weight is:  0.014313940883574195\n",
      "The 2 rounds score is 0.5\n",
      "Total weight is:  2.3703953738914683  min Weight is:  3.3395623030197777e-06  max Weight is:  0.014313940883574202\n",
      "Total weight is:  1.9221839080459775  min Weight is:  0.0025  max Weight is:  0.014313940883574202\n",
      "early stop! due to error_rate=0.50\n"
     ]
    },
    {
     "name": "stderr",
     "output_type": "stream",
     "text": [
      "\n"
     ]
    }
   ],
   "source": [
    "X_train_h_r, X_test_h_r, Y_train_h_r, Y_test_h_r = train_test_split(X_review_h, y_h, train_size = 3000,\n",
    "                                                                   test_size=600,random_state=200, stratify =y_h)\n",
    "\n",
    "base_estimator = LinearSVC(penalty = 'l2')\n",
    "clf = TrAdaBoost(N=4,base_estimator=base_estimator,score=accuracy_score)\n",
    "clf.fit(X_train_h_r, X_train_k_r, Y_train_h_r, Y_train_k_r)"
   ]
  },
  {
   "cell_type": "code",
   "execution_count": 269,
   "metadata": {},
   "outputs": [
    {
     "name": "stdout",
     "output_type": "stream",
     "text": [
      "test accuracy of source domain: 0.7\n",
      "train accuracy of target domain: 0.7825\n",
      "The testing report of TL in target domain is:\n",
      "               precision    recall  f1-score   support\n",
      "\n",
      "           0       0.85      0.58      0.69       100\n",
      "           1       0.68      0.90      0.78       100\n",
      "\n",
      "    accuracy                           0.74       200\n",
      "   macro avg       0.77      0.74      0.73       200\n",
      "weighted avg       0.77      0.74      0.73       200\n",
      "\n"
     ]
    }
   ],
   "source": [
    "ys_pred = clf.predict(X_test_h_r)\n",
    "print('test accuracy of source domain:',accuracy_score(Y_test_h_r, ys_pred))\n",
    "\n",
    "yt_pred = clf.predict(X_train_k_r)\n",
    "print('train accuracy of target domain:',accuracy_score(Y_train_k_r, yt_pred))\n",
    "\n",
    "yt_test_pred = clf.predict(X_test_k_r)\n",
    "print('The testing report of TL in target domain is:\\n',classification_report(Y_test_k_r, yt_test_pred, output_dict=False))"
   ]
  },
  {
   "cell_type": "code",
   "execution_count": 270,
   "metadata": {},
   "outputs": [
    {
     "name": "stdout",
     "output_type": "stream",
     "text": [
      "The testing report of SL in target domain is\n",
      "               precision    recall  f1-score   support\n",
      "\n",
      "           0       0.75      0.79      0.77       100\n",
      "           1       0.78      0.73      0.75       100\n",
      "\n",
      "    accuracy                           0.76       200\n",
      "   macro avg       0.76      0.76      0.76       200\n",
      "weighted avg       0.76      0.76      0.76       200\n",
      "\n"
     ]
    }
   ],
   "source": [
    "#baseline_target \n",
    "baseline_target = LinearSVC(penalty = 'l2')\n",
    "baseline_target.fit(X_train_k_r, Y_train_k_r)\n",
    "yt_test_pred = baseline_target.predict(X_test_k_r)\n",
    "print('The testing report of SL in target domain is\\n',classification_report(Y_test_k_r, yt_test_pred, output_dict=False))"
   ]
  },
  {
   "cell_type": "code",
   "execution_count": 24,
   "metadata": {},
   "outputs": [
    {
     "name": "stdout",
     "output_type": "stream",
     "text": [
      "The accuracy score of the SVC on test target data =  0.785\n"
     ]
    }
   ],
   "source": [
    "X_uninon = np.concatenate((x_train_h_r, x_train_k_r), axis=0)\n",
    "y_uninon = np.concatenate((y_h, y_train_k_r), axis=0)\n",
    "\n",
    "clf_unio = LinearSVC(penalty='l2')\n",
    "clf_unio.fit(X_uninon, y_uninon)\n",
    "y_pred_test_unio = clf_unio.predict(x_test_k_r)\n",
    "acc_adab_t = accuracy_score(y_test_k_r, y_pred_test_unio)\n",
    "print('The accuracy score of the SVC on test target data = ', acc_adab_t)"
   ]
  },
  {
   "cell_type": "code",
   "execution_count": 25,
   "metadata": {},
   "outputs": [
    {
     "name": "stdout",
     "output_type": "stream",
     "text": [
      "The accuracy score of the AdaBoostClassifier onthe test target data =  0.76\n"
     ]
    }
   ],
   "source": [
    "clf_unio = AdaBoostClassifier(learning_rate=0.1, n_estimators=80)\n",
    "clf_unio.fit(X_uninon, y_uninon)\n",
    "y_pred_test_unio = clf_unio.predict(x_test_k_r)\n",
    "acc_adab_t = accuracy_score(y_test_k_r, y_pred_test_unio)\n",
    "print('The accuracy score of the AdaBoostClassifier onthe test target data = ', acc_adab_t)\n"
   ]
  },
  {
   "cell_type": "markdown",
   "metadata": {},
   "source": [
    "# Importantance weighting"
   ]
  },
  {
   "cell_type": "code",
   "execution_count": 60,
   "metadata": {},
   "outputs": [
    {
     "name": "stdout",
     "output_type": "stream",
     "text": [
      "The means = \n",
      " (2, 300)\n",
      "The covariance matrices = \n",
      " (2, 300, 300)\n"
     ]
    }
   ],
   "source": [
    "\n",
    "X_uninon = np.concatenate((X_train_h_r, X_train_k_r[:8,:]), axis=0)\n",
    "y_uninon = np.concatenate((Y_train_h_r, Y_train_k_r[:8]), axis=0)\n",
    "\n",
    "\n",
    "gm = GaussianMixture(n_components=2, random_state=0).fit(X_uninon)\n",
    "means = gm.means_\n",
    "cov_mat = gm.covariances_\n",
    "print('The means = \\n', means.shape)\n",
    "print('The covariance matrices = \\n', cov_mat.shape)\n"
   ]
  },
  {
   "cell_type": "code",
   "execution_count": 61,
   "metadata": {},
   "outputs": [
    {
     "name": "stdout",
     "output_type": "stream",
     "text": [
      "The means class zero 0 = \n",
      " -0.0001780652428123944\n",
      "The means 1 = \n",
      " -0.003548618934282531\n"
     ]
    }
   ],
   "source": [
    "print('The means class zero 0 = \\n', np.mean(means[0,:]-means[1,:]))\n",
    "print('The means 1 = \\n', np.mean(means[1,:]))"
   ]
  },
  {
   "cell_type": "code",
   "execution_count": 62,
   "metadata": {},
   "outputs": [
    {
     "data": {
      "image/png": "[encoded data removed]",
      "text/plain": [
       "<Figure size 432x288 with 1 Axes>"
      ]
     },
     "metadata": {
      "needs_background": "light"
     },
     "output_type": "display_data"
    }
   ],
   "source": [
    "plt.hist(X_train_h_r[7,:])\n",
    "plt.hist(X_train_k_r[7,:])\n",
    "plt.show()"
   ]
  },
  {
   "cell_type": "code",
   "execution_count": 63,
   "metadata": {},
   "outputs": [
    {
     "data": {
      "image/png": "[encoded data removed]",
      "text/plain": [
       "<Figure size 432x288 with 1 Axes>"
      ]
     },
     "metadata": {
      "needs_background": "light"
     },
     "output_type": "display_data"
    }
   ],
   "source": [
    "X_concept_h = np.concatenate((X_train_h_r, Y_train_h_r.reshape(-1,1)), axis=1)\n",
    "plt.hist(X_concept_h[6,:])\n",
    "X_concept_k = np.concatenate((X_train_k_r, Y_train_k_r.reshape(-1,1)), axis=1)\n",
    "plt.hist(X_concept_k[6,:])\n",
    "plt.show()"
   ]
  },
  {
   "cell_type": "code",
   "execution_count": 64,
   "metadata": {},
   "outputs": [
    {
     "data": {
      "image/png": "[encoded data removed]",
      "text/plain": [
       "<Figure size 432x288 with 1 Axes>"
      ]
     },
     "metadata": {
      "needs_background": "light"
     },
     "output_type": "display_data"
    }
   ],
   "source": [
    "plt.hist(Y_train_h_r[:])\n",
    "plt.hist(Y_train_k_r[:])\n",
    "plt.show()"
   ]
  },
  {
   "cell_type": "code",
   "execution_count": 66,
   "metadata": {},
   "outputs": [],
   "source": [
    "# warnings.filterwarnings(\"ignore\")\n",
    "# mean_s = means[0,:]\n",
    "# cov_mat_s = cov_mat[0,:,:]\n",
    "\n",
    "# mean_t = means[1,:]\n",
    "# cov_mat_t = cov_mat[1,:,:]\n",
    "# from sklearn.preprocessing import normalize\n",
    "\n",
    "# X_uninon = normalize(X_uninon)\n",
    "\n",
    "# w = multivariate_normal.pdf(X_uninon, mean=mean_t, cov=cov_mat_t) / multivariate_normal.pdf(X_uninon, mean=mean_s, cov=cov_mat_s)\n",
    "\n",
    "# clf_unio = LinearSVC()\n",
    "# clf_unio.fit(X_uninon, y_uninon, sample_weight = w)\n",
    "# y_pred_test_unio = clf_unio.predict(X_test_h_r)\n",
    "# acc_adab_t = accuracy_score(Y_test_h_r, y_pred_test_unio)\n",
    "# print('The accuracy score of the source AdaBoostClassifier on target data = ', acc_adab_t)\n"
   ]
  },
  {
   "cell_type": "markdown",
   "metadata": {},
   "source": [
    "# Semi-Suervised Learning"
   ]
  },
  {
   "cell_type": "code",
   "execution_count": 12,
   "metadata": {},
   "outputs": [],
   "source": [
    "# trained Labeld and unlabeled\n",
    "X_train_h_r, X_test_h_r, Y_train_h_r, Y_test_h_r = train_test_split(X_review_h, y_h, train_size = 1000,\n",
    "                                                                   test_size=300,random_state=200, stratify =y_h)\n",
    "\n",
    "x_h_l = X_train_h_r[:8,:]\n",
    "y_h_l = Y_train_h_r[:8]\n",
    "y_h_labeled = np.where(y_h_l == 0 , -1, 1)\n",
    "\n",
    "x_h_u = X_train_h_r[8:,:]\n",
    "y_h_u = Y_train_h_r[8:]\n",
    "y_h_un = np.where(y_h_u  == 0 , -1, 1)\n",
    "\n",
    "# test Labeld \n",
    "# X_test_h_r[]\n",
    "y_h_test = np.where(Y_test_h_r  == 0 , -1, 1)\n"
   ]
  },
  {
   "cell_type": "code",
   "execution_count": 21,
   "metadata": {},
   "outputs": [
    {
     "name": "stdout",
     "output_type": "stream",
     "text": [
      "The accuracy score of QN_S3VM on test data home is:\n",
      "                precision    recall  f1-score   support\n",
      "\n",
      "          -1       0.60      0.66      0.63       150\n",
      "           1       0.62      0.55      0.58       150\n",
      "\n",
      "    accuracy                           0.61       300\n",
      "   macro avg       0.61      0.61      0.61       300\n",
      "weighted avg       0.61      0.61      0.61       300\n",
      "\n"
     ]
    }
   ],
   "source": [
    "import warnings\n",
    "warnings.filterwarnings('ignore', category=PendingDeprecationWarning)\n",
    "\n",
    "# train and predict on labeled data\n",
    "clf_3 = QN_S3VM(x_h_l.tolist(), y_h_labeled.tolist(), x_h_u.tolist(), lam=1, \n",
    "                kernel_type='Linear', random_generator=random.Random())\n",
    "clf_3.train()\n",
    "\n",
    "# y_pred_tt = clf_3.getPredictions(x_h_l)\n",
    "# acc_s3vm_l = classification_report(y_h_labeled, y_pred_tt, output_dict=False)\n",
    "# print('The accuracy score of QN_S3VM on train data home is:\\n ', acc_s3vm_l)\n",
    "\n",
    "\n",
    "y_pred_test = clf_3.getPredictions(X_test_h_r)\n",
    "acc_s3vm_l = classification_report(y_h_test, y_pred_test, output_dict=False)\n",
    "print('The accuracy score of QN_S3VM on test data home is:\\n ', acc_s3vm_l)"
   ]
  },
  {
   "cell_type": "code",
   "execution_count": 92,
   "metadata": {},
   "outputs": [
    {
     "name": "stdout",
     "output_type": "stream",
     "text": [
      "The accuracy score of semi_supervised by LabelSpreading on test data home is= 0.6833333333333333\n"
     ]
    }
   ],
   "source": [
    "# Another method LabelSpreading\n",
    "\n",
    "x_uninon_train = np.concatenate((x_h_l,x_h_u), axis=0)\n",
    "y_uninon_train = np.concatenate((y_h_l, y_h_u), axis=0)\n",
    "\n",
    "label_prop_model = LabelSpreading()\n",
    "label_prop_model.fit(x_uninon_train, y_uninon_train)\n",
    "acc_score = label_prop_model.score(X_test_h_r, Y_test_h_r)\n",
    "print(f'The accuracy score of semi_supervised by LabelSpreading on test data home is= {acc_score}')"
   ]
  },
  {
   "cell_type": "code",
   "execution_count": 93,
   "metadata": {},
   "outputs": [
    {
     "name": "stdout",
     "output_type": "stream",
     "text": [
      "The accuracy score of semi_supervised by LabelSpreading on test data home is= 0.999\n"
     ]
    }
   ],
   "source": [
    "acc_score = label_prop_model.score(x_uninon_train, y_uninon_train)\n",
    "print(f'The accuracy score of semi_supervised by LabelSpreading on test data home is= {acc_score}')"
   ]
  },
  {
   "cell_type": "code",
   "execution_count": 76,
   "metadata": {},
   "outputs": [
    {
     "name": "stdout",
     "output_type": "stream",
     "text": [
      "The accuracy score of SVM of 20 samples = 0.4066666666666667\n",
      "The accuracy score of SVM of 40 samples = 0.37333333333333335\n",
      "The accuracy score of SVM of 60 samples = 0.43\n",
      "The accuracy score of SVM of 80 samples = 0.395\n",
      "The accuracy score of SVM of 100 samples = 0.36833333333333335\n",
      "The accuracy score of SVM of 120 samples = 0.3616666666666667\n",
      "The accuracy score of SVM of 140 samples = 0.37\n",
      "The accuracy score of SVM of 160 samples = 0.37\n",
      "The accuracy score of SVM of 180 samples = 0.36333333333333334\n",
      "The accuracy score of SVM of 200 samples = 0.37166666666666665\n"
     ]
    }
   ],
   "source": [
    "# Another method\n",
    "L = np.arange(1,11,1)\n",
    "acc_b = []\n",
    "clf = LinearSVC()\n",
    "for i in L:\n",
    "    idx = 20*i\n",
    "    clf.fit(X_train_h_r[:idx,:], Y_train_h_r[:idx])\n",
    "    y_pred_test = clf.predict(X_test_h_r)\n",
    "    acc_svm_l = accuracy_score(y_h_test, y_pred_test)\n",
    "    acc_b.append(acc_svm_l)\n",
    "    print(f'The accuracy score of SVM of {idx} samples = {acc_svm_l}')"
   ]
  },
  {
   "cell_type": "code",
   "execution_count": 77,
   "metadata": {},
   "outputs": [
    {
     "name": "stdout",
     "output_type": "stream",
     "text": [
      "The accuracy score of QN_S3VM of 2 samples = 0.495\n",
      "The accuracy score of QN_S3VM of 4 samples = 0.5\n",
      "The accuracy score of QN_S3VM of 6 samples = 0.5\n",
      "The accuracy score of QN_S3VM of 8 samples = 0.5\n",
      "The accuracy score of QN_S3VM of 10 samples = 0.5\n",
      "The accuracy score of QN_S3VM of 12 samples = 0.5\n",
      "The accuracy score of QN_S3VM of 14 samples = 0.5\n",
      "The accuracy score of QN_S3VM of 16 samples = 0.5\n",
      "The accuracy score of QN_S3VM of 18 samples = 0.5\n",
      "The accuracy score of QN_S3VM of 20 samples = 0.5\n"
     ]
    }
   ],
   "source": [
    "L = np.arange(1,11,1)\n",
    "acc_c = []\n",
    "idx_lis = []\n",
    "for i in L:\n",
    "    idx = 2*i\n",
    "    idx_lis.append(idx)\n",
    "    y_h_r = np.where(Y_train_h_r[:idx] == 0 , -1, 1)\n",
    "    clf_3 = QN_S3VM(X_train_h_r[:idx,:].tolist(), y_h_r.tolist(), X_train_h_r[idx:,:].tolist(), \n",
    "                    lam=1, kernel_type='Linear', random_generator=random.Random())\n",
    "    clf_3.train()\n",
    "    y_pred_test = clf_3.getPredictions(X_test_h_r)\n",
    "    acc_s3vm = accuracy_score(y_h_test, y_pred_test)\n",
    "    acc_c.append(acc_s3vm_l)\n",
    "    print(f'The accuracy score of QN_S3VM of {idx} samples = {acc_s3vm}')"
   ]
  },
  {
   "cell_type": "markdown",
   "metadata": {},
   "source": [
    "# Unsupervised Learning"
   ]
  },
  {
   "cell_type": "code",
   "execution_count": 22,
   "metadata": {},
   "outputs": [
    {
     "name": "stdout",
     "output_type": "stream",
     "text": [
      "The accuracy EM of USL =\n",
      "                precision    recall  f1-score   support\n",
      "\n",
      "           0       0.56      0.73      0.64       150\n",
      "           1       0.62      0.44      0.51       150\n",
      "\n",
      "    accuracy                           0.58       300\n",
      "   macro avg       0.59      0.58      0.57       300\n",
      "weighted avg       0.59      0.58      0.57       300\n",
      "\n",
      "The means = \n",
      " (2, 300)\n",
      "The covariance matrices = \n",
      " (2, 300, 300)\n",
      "The convergence steps = \n",
      " 3\n"
     ]
    }
   ],
   "source": [
    "# EM Algorithm \n",
    "X_train_h_r, X_test_h_r, Y_train_h_r, Y_test_h_r = train_test_split(X_review_h, y_h, train_size = 1000,\n",
    "                                                                   test_size=300,random_state=200, stratify =y_h)\n",
    "gmm = GaussianMixture(n_components=2, random_state=28).fit(X_train_h_r)\n",
    "y_pred = gmm.predict(X_test_h_r)\n",
    "acc_sc = classification_report(Y_test_h_r, y_pred, output_dict=False)\n",
    "print('The accuracy EM of USL =\\n ', acc_sc)\n",
    "\n",
    "means = gmm.means_\n",
    "cov_mat = gmm.covariances_\n",
    "conv = gmm.n_iter_\n",
    "print('The means = \\n', means.shape)\n",
    "print('The covariance matrices = \\n', cov_mat.shape)\n",
    "print('The convergence steps = \\n', conv)"
   ]
  },
  {
   "cell_type": "code",
   "execution_count": 23,
   "metadata": {},
   "outputs": [
    {
     "name": "stdout",
     "output_type": "stream",
     "text": [
      "The accuracy EM of USL =\n",
      "                precision    recall  f1-score   support\n",
      "\n",
      "           0       0.62      0.66      0.64       500\n",
      "           1       0.63      0.59      0.61       500\n",
      "\n",
      "    accuracy                           0.62      1000\n",
      "   macro avg       0.63      0.62      0.62      1000\n",
      "weighted avg       0.63      0.62      0.62      1000\n",
      "\n"
     ]
    }
   ],
   "source": [
    "y_pred = gmm.predict(X_train_h_r)\n",
    "acc_sc = classification_report(Y_train_h_r, y_pred, output_dict=False)\n",
    "print('The accuracy EM of USL =\\n ', acc_sc)\n"
   ]
  },
  {
   "cell_type": "markdown",
   "metadata": {},
   "source": [
    "gmm = GaussianMixture(n_components=2).fit(X_train_h_r)\n",
    "y_pred = gmm.predict(X_train_h_r)\n",
    "acc_sc = classification_report(Y_train_h_r, y_pred, output_dict=False)\n",
    "print('The accuracy EM of USL =\\n ', acc_sc)\n"
   ]
  },
  {
   "cell_type": "code",
   "execution_count": 278,
   "metadata": {},
   "outputs": [
    {
     "data": {
      "image/png": "[encoded data removed]",
      "text/plain": [
       "<Figure size 432x288 with 1 Axes>"
      ]
     },
     "metadata": {
      "needs_background": "light"
     },
     "output_type": "display_data"
    }
   ],
   "source": [
    "x_axis = np.arange(1,1001,1)\n",
    "plt.scatter(x_axis, X_train_h_r[:,0])\n",
    "plt.scatter(x_axis, X_train_h_r[:,7])\n",
    "plt.show()"
   ]
  },
  {
   "cell_type": "code",
   "execution_count": 279,
   "metadata": {},
   "outputs": [
    {
     "data": {
      "image/png": "[encoded data removed]",
      "text/plain": [
       "<Figure size 432x288 with 1 Axes>"
      ]
     },
     "metadata": {
      "needs_background": "light"
     },
     "output_type": "display_data"
    }
   ],
   "source": [
    "x_axis = np.arange(1,1001,1)\n",
    "plt.scatter(x_axis,X_train_h_r[:,8])\n",
    "plt.scatter(x_axis,X_train_h_r[:,1])\n",
    "plt.show()"
   ]
  },
  {
   "cell_type": "code",
   "execution_count": 334,
   "metadata": {},
   "outputs": [
    {
     "name": "stdout",
     "output_type": "stream",
     "text": [
      "The accuracy of kmeans for USL on train data home is = 0.621\n",
      "The accuracy of kmeans for USL on test data home is = 0.61\n",
      "[[100  50]\n",
      " [ 67  83]]\n"
     ]
    }
   ],
   "source": [
    "# kmeans Algorithm \n",
    "centroid, label = kmeans2(X_train_h_r, k = 2, seed=22)\n",
    "\n",
    "y_pred1 = np.zeros((len(X_test_h_r)))\n",
    "\n",
    "for i in range(len(X_test_h_r)):\n",
    "    if distance.euclidean( X_test_h_r[i,:] , centroid[0,:] ) < distance.euclidean( X_test_h_r[i,:] , centroid[1,:] ):\n",
    "        y_pred1[i] = 0\n",
    "        #y_e_r = y[label == i]\n",
    "    elif distance.euclidean( X_test_h_r[i,:] , centroid[0,:] ) >= distance.euclidean( X_test_h_r[i,:] ,centroid[1,:]):\n",
    "        y_pred1[i] = 1\n",
    "    else:\n",
    "        y_pred1[i] = None\n",
    "   \n",
    "\n",
    "acc_scc = accuracy_score(Y_train_h_r, label)\n",
    "print(f'The accuracy of kmeans for USL on train data home is = {acc_scc}')\n",
    "\n",
    "\n",
    "acc_scc = accuracy_score(Y_test_h_r, y_pred1)\n",
    "print(f'The accuracy of kmeans for USL on test data home is = {acc_scc}')\n",
    "\n",
    "cm = confusion_matrix(Y_test_h_r, y_pred1)\n",
    "print(cm)"
   ]
  },
  {
   "cell_type": "code",
   "execution_count": null,
   "metadata": {},
   "outputs": [],
   "source": []
  }
 ],
 "metadata": {
  "kernelspec": {
   "display_name": "Python 3",
   "language": "python",
   "name": "python3"
  },
  "language_info": {
   "codemirror_mode": {
    "name": "ipython",
    "version": 3
   },
   "file_extension": ".py",
   "mimetype": "text/x-python",
   "name": "python",
   "nbconvert_exporter": "python",
   "pygments_lexer": "ipython3",
   "version": "3.8.5"
  }
 },
 "nbformat": 4,
 "nbformat_minor": 4
}
